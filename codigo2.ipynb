{
 "cells": [
  {
   "cell_type": "code",
   "execution_count": null,
   "metadata": {},
   "outputs": [],
   "source": [
    "from selenium import webdriver\n",
    "from selenium.webdriver.chrome.service import Service\n",
    "from webdriver_manager.chrome import ChromeDriverManager\n",
    "from selenium.webdriver.common.by import By\n",
    "from selenium.webdriver.common.keys import Keys\n",
    "import os\n",
    "import time\n",
    "\n",
    "servico = Service(ChromeDriverManager().install())\n",
    "navegador = webdriver.Chrome(service=servico)\n",
    "\n",
    "caminho = os.getcwd()\n",
    "arquivo = caminho + r'\\formulario.html'\n",
    "navegador.get(arquivo)"
   ]
  },
  {
   "cell_type": "code",
   "execution_count": null,
   "metadata": {},
   "outputs": [],
   "source": [
    "#CLICANDO NO CHECKBOX\n",
    "navegador.find_element(By.XPATH, '/html/body/form/input[2]').click()"
   ]
  },
  {
   "cell_type": "code",
   "execution_count": null,
   "metadata": {},
   "outputs": [],
   "source": [
    "time.sleep(3)\n",
    "# MUDANDO A COR DA CAIXA DE SELEÇÃO DE CORES\n",
    "navegador.find_element(By.XPATH, '/html/body/form/input[4]').send_keys('#7D04F6')"
   ]
  },
  {
   "cell_type": "code",
   "execution_count": null,
   "metadata": {},
   "outputs": [],
   "source": [
    "# COLOCANDO UMA DATA NO CAMPO DATA\n",
    "navegador.find_element(By.XPATH, '/html/body/form/input[6]').send_keys('25/09/2000')"
   ]
  },
  {
   "cell_type": "code",
   "execution_count": null,
   "metadata": {},
   "outputs": [],
   "source": [
    "# COLOCANDO DATA E HORA E PRESSIONANDO A TECLA \"TAB\"\n",
    "navegador.find_element(By.XPATH, '/html/body/form/input[7]').send_keys('25/09/2024', Keys.TAB, '12:00')"
   ]
  },
  {
   "cell_type": "code",
   "execution_count": null,
   "metadata": {},
   "outputs": [],
   "source": [
    "# iNSERINDO UM MES E UM ANO, COM DADOS DIFERENTES, E USANDO TAB\n",
    "navegador.find_element(By.XPATH, '/html/body/form/input[9]').send_keys('Setembro', Keys.TAB, '2000')"
   ]
  },
  {
   "cell_type": "code",
   "execution_count": null,
   "metadata": {},
   "outputs": [],
   "source": [
    "# INSERINDO APENAS NUMEROS EM UM CAMPO DE NUMEROS\n",
    "navegador.find_element(By.XPATH, '/html/body/form/input[10]').send_keys('123456')"
   ]
  },
  {
   "cell_type": "code",
   "execution_count": null,
   "metadata": {},
   "outputs": [],
   "source": [
    "# INSERINDO SENHA \n",
    "navegador.find_element(By.XPATH, '/html/body/form/input[11]').send_keys('123456')"
   ]
  },
  {
   "cell_type": "code",
   "execution_count": null,
   "metadata": {},
   "outputs": [],
   "source": [
    "# CLICANDO NO BOTÃO DE RADIO\n",
    "navegador.find_element(By.XPATH, '/html/body/form/input[13]').click()"
   ]
  },
  {
   "cell_type": "code",
   "execution_count": null,
   "metadata": {},
   "outputs": [],
   "source": [
    "# ARRASTANDO O BOTÃO DE ARRASTAR\n",
    "navegador.find_element(By.XPATH, '/html/body/form/input[15]').clear() # AQUI ESTAMOS USANDO \"CLEAR\" PRAR ELE VOLTAR PARA O PADRAO QUE E 50\n",
    "elemento = navegador.find_element(By.XPATH, '/html/body/form/input[15]') # AQUI ADICIONAOD O ELEMENTO A UMA VARIAVEL\n",
    "for i in range(70 - 50): # AQUI USAMOS UM RANGE, DIZENDO QUE DE 50 QUEREMOS IR PARA O 70\n",
    "    elemento.send_keys(Keys.ARROW_RIGHT) # AQUI O LOOP E EXECUTADO 20X ATE CHEGAR NO 70, USANDO A ->"
   ]
  },
  {
   "cell_type": "code",
   "execution_count": null,
   "metadata": {},
   "outputs": [],
   "source": [
    "# INSERINDO O SEU NOME\n",
    "navegador.find_element(By.XPATH, '/html/body/form/input[16]').send_keys('Gabriel')"
   ]
  },
  {
   "cell_type": "code",
   "execution_count": null,
   "metadata": {},
   "outputs": [],
   "source": [
    "# iNSERINDO UMA HORA\n",
    "navegador.find_element(By.XPATH, '/html/body/form/input[17]').send_keys('10:59')"
   ]
  },
  {
   "cell_type": "code",
   "execution_count": null,
   "metadata": {},
   "outputs": [],
   "source": [
    "# iNSERINDO UMA SEMANA E UM ANO\n",
    "navegador.find_element(By.XPATH, '/html/body/form/input[18]').send_keys('09', '2024')"
   ]
  },
  {
   "cell_type": "code",
   "execution_count": null,
   "metadata": {},
   "outputs": [],
   "source": [
    "# ESCREVENDO UM TEXTO E PULANDO LINHAS\n",
    "navegador.find_element(By.XPATH, '//*[@id=\"story\"]').send_keys('Esse', Keys.ENTER, 'E um texto', Keys.ENTER, 'Entre textos')"
   ]
  },
  {
   "cell_type": "code",
   "execution_count": 23,
   "metadata": {},
   "outputs": [],
   "source": [
    "# ANEXANDO ARQUIVO AO BOTÃO DE ARQUIVO\n",
    "navegador.find_element(By.XPATH, '/html/body/form/input[8]').send_keys(r'C:\\Users\\Gabriel nery\\Downloads\\Neryconnect (1).png')"
   ]
  }
 ],
 "metadata": {
  "kernelspec": {
   "display_name": "Python 3",
   "language": "python",
   "name": "python3"
  },
  "language_info": {
   "codemirror_mode": {
    "name": "ipython",
    "version": 3
   },
   "file_extension": ".py",
   "mimetype": "text/x-python",
   "name": "python",
   "nbconvert_exporter": "python",
   "pygments_lexer": "ipython3",
   "version": "3.12.4"
  }
 },
 "nbformat": 4,
 "nbformat_minor": 2
}
