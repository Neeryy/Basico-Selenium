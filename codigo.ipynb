{
 "cells": [
  {
   "cell_type": "code",
   "execution_count": null,
   "metadata": {},
   "outputs": [],
   "source": [
    "from selenium import webdriver\n",
    "from selenium.webdriver.chrome.service import Service\n",
    "from webdriver_manager.chrome import ChromeDriverManager\n",
    "from selenium.webdriver.common.by import By\n",
    "\n",
    "servico = Service(ChromeDriverManager().install())\n",
    "navegador = webdriver.Chrome(service=servico)\n",
    "\n",
    "navegador.get(r'C:\\Users\\Gabriel nery\\Downloads\\Arquivos\\Pagina Hashtag.html')\n",
    "\n",
    "\n",
    "navegador.find_element(By.XPATH, '//*[@id=\"header\"]/div/div/div[1]/a/img').click()\n",
    "\n"
   ]
  },
  {
   "cell_type": "markdown",
   "metadata": {},
   "source": [
    "no codigo acima montamos a estrutura de um codigo de automação com selenium, estamos passando para ele, acessa uma pagina HTML que esta salva no nosso computador, dizendo o caminho ate ela.\n",
    "\n",
    "apos passar o caminho estamos selecionando um elemento pelp XPATH e depois clicando nele."
   ]
  },
  {
   "cell_type": "markdown",
   "metadata": {},
   "source": [
    "No codigo abaixo estamos pegando uma classe de um dos menus do site e com ele selecionando todos os elementos que tenham essa mesma classe \"nav-link\", e depois de pegarmos essa lista e armazenar em uma variavel, criamos um loop, aonde dizemos para verificar cada elemento da nossa lista e se achar o elemento que tem o nome de \"blog\", voce deve deixar ele toda em letra minuscula e depois clicar nele, apos clicar voce deve parar o loop.\n",
    "\n",
    "voce tambem pode selecionar um elemento que tem a mesma classe em outros elementos se voce souber a posição dele, use o codigo abaixo.\n",
    "\n",
    "LISTA_ELEMENTOS = NAVEGADOR.FIND_ELEMENTS(By.CLASS_NAME, 'nav-link')\n",
    "Lista_elementos[5].click()"
   ]
  },
  {
   "cell_type": "code",
   "execution_count": null,
   "metadata": {},
   "outputs": [],
   "source": [
    "lista_elemento = navegador.find_elements(By.CLASS_NAME, 'nav-link')\n",
    "for elemento in lista_elemento:\n",
    "    if \"blog\" in elemento.text.lower():\n",
    "        elemento.click()\n",
    "        break"
   ]
  },
  {
   "cell_type": "markdown",
   "metadata": {},
   "source": [
    "Pegando informaçoes de um elemnto\n",
    "\n",
    "- texto\n",
    "- atributos\n",
    "\n",
    "Ex1: texto do link"
   ]
  },
  {
   "cell_type": "code",
   "execution_count": null,
   "metadata": {},
   "outputs": [],
   "source": [
    "texto = navegador.find_element(By.XPATH, '/html/body/footer/div/div/div[1]/div[2]/div[5]/div/a').text\n",
    "print(texto)"
   ]
  },
  {
   "cell_type": "markdown",
   "metadata": {},
   "source": [
    "Ex1: Link do para ir para o whats"
   ]
  },
  {
   "cell_type": "code",
   "execution_count": null,
   "metadata": {},
   "outputs": [],
   "source": [
    "texto = navegador.find_element(By.XPATH, '/html/body/footer/div/div/div[1]/div[2]/div[5]/div/a').get_attribute('href')\n",
    "print(texto)"
   ]
  },
  {
   "cell_type": "markdown",
   "metadata": {},
   "source": [
    "Ex2: Link das imagens"
   ]
  },
  {
   "cell_type": "code",
   "execution_count": null,
   "metadata": {},
   "outputs": [],
   "source": [
    "link = navegador.find_element(By.XPATH, '/html/body/section[2]/div/div[4]/figure/a').get_attribute('href')\n",
    "print(link)"
   ]
  }
 ],
 "metadata": {
  "kernelspec": {
   "display_name": "Python 3",
   "language": "python",
   "name": "python3"
  },
  "language_info": {
   "codemirror_mode": {
    "name": "ipython",
    "version": 3
   },
   "file_extension": ".py",
   "mimetype": "text/x-python",
   "name": "python",
   "nbconvert_exporter": "python",
   "pygments_lexer": "ipython3",
   "version": "3.12.4"
  }
 },
 "nbformat": 4,
 "nbformat_minor": 2
}
